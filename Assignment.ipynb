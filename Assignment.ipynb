{
 "cells": [
  {
   "cell_type": "markdown",
   "id": "d9b7eeb8",
   "metadata": {},
   "source": [
    "# 1. Introduction and problem statement\n",
    "\n",
    "Every day many customers around the world are sending inquires and need support in relation to their interaction with the company. This is specifically the case for B2C markets, where customers are many. With todays advancement in technological possibilities, many support services are taking place online, where customers send in their written inquires. But how do they companies handle this large pool of customer inquiries with many different support needs? \n",
    "\n",
    "I will in this notebook show how a company can use NLP to create a LLM-based classifier so that each inquiry can be classified and send the right department in the company to enhance efficiency\n",
    "\n",
    "**Dataset:** I will use a kaggle dataset which is a synthetic custommer support ticket dataset for a tech company: https://www.kaggle.com/datasets/suraj520/customer-support-ticket-dataset/data"
   ]
  },
  {
   "cell_type": "code",
   "execution_count": 50,
   "id": "653a7013",
   "metadata": {},
   "outputs": [
    {
     "name": "stdout",
     "output_type": "stream",
     "text": [
      "Dataset path: /Users/anderssonderby/.cache/kagglehub/datasets/suraj520/customer-support-ticket-dataset/versions/1\n",
      "Loaded CSV: customer_support_tickets.csv\n",
      "Shape: (8469, 17)\n"
     ]
    }
   ],
   "source": [
    "import kagglehub\n",
    "import pandas as pd\n",
    "import glob\n",
    "import os\n",
    "\n",
    "# Download latest version\n",
    "path = kagglehub.dataset_download(\"suraj520/customer-support-ticket-dataset\")\n",
    "print(\"Dataset path:\", path)\n",
    "\n",
    "# Find first CSV file in the downloaded dataset\n",
    "csv_files = glob.glob(os.path.join(path, \"**\", \"*.csv\"), recursive=True)\n",
    "if not csv_files:\n",
    "    raise FileNotFoundError(\"No CSV files found in dataset folder.\")\n",
    "\n",
    "# Load the first CSV\n",
    "df = pd.read_csv(csv_files[0])\n",
    "\n",
    "print(\"Loaded CSV:\", os.path.basename(csv_files[0]))\n",
    "print(\"Shape:\", df.shape)\n",
    "\n"
   ]
  },
  {
   "cell_type": "code",
   "execution_count": 51,
   "id": "2c0c2c07",
   "metadata": {},
   "outputs": [
    {
     "name": "stdout",
     "output_type": "stream",
     "text": [
      "<class 'pandas.core.frame.DataFrame'>\n",
      "RangeIndex: 8469 entries, 0 to 8468\n",
      "Data columns (total 17 columns):\n",
      " #   Column                        Non-Null Count  Dtype  \n",
      "---  ------                        --------------  -----  \n",
      " 0   Ticket ID                     8469 non-null   int64  \n",
      " 1   Customer Name                 8469 non-null   object \n",
      " 2   Customer Email                8469 non-null   object \n",
      " 3   Customer Age                  8469 non-null   int64  \n",
      " 4   Customer Gender               8469 non-null   object \n",
      " 5   Product Purchased             8469 non-null   object \n",
      " 6   Date of Purchase              8469 non-null   object \n",
      " 7   Ticket Type                   8469 non-null   object \n",
      " 8   Ticket Subject                8469 non-null   object \n",
      " 9   Ticket Description            8469 non-null   object \n",
      " 10  Ticket Status                 8469 non-null   object \n",
      " 11  Resolution                    2769 non-null   object \n",
      " 12  Ticket Priority               8469 non-null   object \n",
      " 13  Ticket Channel                8469 non-null   object \n",
      " 14  First Response Time           5650 non-null   object \n",
      " 15  Time to Resolution            2769 non-null   object \n",
      " 16  Customer Satisfaction Rating  2769 non-null   float64\n",
      "dtypes: float64(1), int64(2), object(14)\n",
      "memory usage: 1.1+ MB\n"
     ]
    }
   ],
   "source": [
    "df.info()"
   ]
  },
  {
   "cell_type": "code",
   "execution_count": 80,
   "id": "c000b209",
   "metadata": {},
   "outputs": [
    {
     "data": {
      "text/html": [
       "<div>\n",
       "<style scoped>\n",
       "    .dataframe tbody tr th:only-of-type {\n",
       "        vertical-align: middle;\n",
       "    }\n",
       "\n",
       "    .dataframe tbody tr th {\n",
       "        vertical-align: top;\n",
       "    }\n",
       "\n",
       "    .dataframe thead th {\n",
       "        text-align: right;\n",
       "    }\n",
       "</style>\n",
       "<table border=\"1\" class=\"dataframe\">\n",
       "  <thead>\n",
       "    <tr style=\"text-align: right;\">\n",
       "      <th></th>\n",
       "      <th>Ticket ID</th>\n",
       "      <th>Customer Name</th>\n",
       "      <th>Customer Email</th>\n",
       "      <th>Customer Age</th>\n",
       "      <th>Customer Gender</th>\n",
       "      <th>Product Purchased</th>\n",
       "      <th>Date of Purchase</th>\n",
       "      <th>Ticket Type</th>\n",
       "      <th>Ticket Subject</th>\n",
       "      <th>Ticket Description</th>\n",
       "      <th>Ticket Status</th>\n",
       "      <th>Resolution</th>\n",
       "      <th>Ticket Priority</th>\n",
       "      <th>Ticket Channel</th>\n",
       "      <th>First Response Time</th>\n",
       "      <th>Time to Resolution</th>\n",
       "      <th>Customer Satisfaction Rating</th>\n",
       "      <th>Predicted Label</th>\n",
       "    </tr>\n",
       "  </thead>\n",
       "  <tbody>\n",
       "    <tr>\n",
       "      <th>0</th>\n",
       "      <td>1</td>\n",
       "      <td>Marisa Obrien</td>\n",
       "      <td>carrollallison@example.com</td>\n",
       "      <td>32</td>\n",
       "      <td>Other</td>\n",
       "      <td>GoPro Hero</td>\n",
       "      <td>2021-03-22</td>\n",
       "      <td>Technical issue</td>\n",
       "      <td>Product setup</td>\n",
       "      <td>I'm having an issue with the GoPro Hero. Please assist.  Your billing zip code is: 71701.  We appreciate that you have requested a website address.  Please double check your email address. I've tried troubleshooting steps mentioned in the user manual, but the issue persists.</td>\n",
       "      <td>Pending Customer Response</td>\n",
       "      <td>NaN</td>\n",
       "      <td>Critical</td>\n",
       "      <td>Social media</td>\n",
       "      <td>2023-06-01 12:15:36</td>\n",
       "      <td>NaN</td>\n",
       "      <td>NaN</td>\n",
       "      <td>Technical issue</td>\n",
       "    </tr>\n",
       "    <tr>\n",
       "      <th>1</th>\n",
       "      <td>2</td>\n",
       "      <td>Jessica Rios</td>\n",
       "      <td>clarkeashley@example.com</td>\n",
       "      <td>42</td>\n",
       "      <td>Female</td>\n",
       "      <td>LG Smart TV</td>\n",
       "      <td>2021-05-22</td>\n",
       "      <td>Technical issue</td>\n",
       "      <td>Peripheral compatibility</td>\n",
       "      <td>I'm having an issue with the LG Smart TV. Please assist.  If you need to change an existing product.  I'm having an issue with the LG Smart TV. Please assist.  If The issue I'm facing is intermittent. Sometimes it works fine, but other times it acts up unexpectedly.</td>\n",
       "      <td>Pending Customer Response</td>\n",
       "      <td>NaN</td>\n",
       "      <td>Critical</td>\n",
       "      <td>Chat</td>\n",
       "      <td>2023-06-01 16:45:38</td>\n",
       "      <td>NaN</td>\n",
       "      <td>NaN</td>\n",
       "      <td>Technical issue</td>\n",
       "    </tr>\n",
       "    <tr>\n",
       "      <th>2</th>\n",
       "      <td>3</td>\n",
       "      <td>Christopher Robbins</td>\n",
       "      <td>gonzalestracy@example.com</td>\n",
       "      <td>48</td>\n",
       "      <td>Other</td>\n",
       "      <td>Dell XPS</td>\n",
       "      <td>2020-07-14</td>\n",
       "      <td>Technical issue</td>\n",
       "      <td>Network problem</td>\n",
       "      <td>I'm facing a problem with my Dell XPS. The Dell XPS is not turning on. It was working fine until yesterday, but now it doesn't respond.  1.8.3 I really I'm using the original charger that came with my Dell XPS, but it's not charging properly.</td>\n",
       "      <td>Closed</td>\n",
       "      <td>Case maybe show recently my computer follow.</td>\n",
       "      <td>Low</td>\n",
       "      <td>Social media</td>\n",
       "      <td>2023-06-01 11:14:38</td>\n",
       "      <td>2023-06-01 18:05:38</td>\n",
       "      <td>3.0</td>\n",
       "      <td>Technical issue</td>\n",
       "    </tr>\n",
       "    <tr>\n",
       "      <th>3</th>\n",
       "      <td>4</td>\n",
       "      <td>Christina Dillon</td>\n",
       "      <td>bradleyolson@example.org</td>\n",
       "      <td>27</td>\n",
       "      <td>Female</td>\n",
       "      <td>Microsoft Office</td>\n",
       "      <td>2020-11-13</td>\n",
       "      <td>Billing inquiry</td>\n",
       "      <td>Account access</td>\n",
       "      <td>I'm having an issue with the Microsoft Office. Please assist.  If you have a problem you're interested in and I'd love to see this happen, please check out the Feedback. I've already contacted customer support multiple times, but the issue remains unresolved.</td>\n",
       "      <td>Closed</td>\n",
       "      <td>Try capital clearly never color toward story.</td>\n",
       "      <td>Low</td>\n",
       "      <td>Social media</td>\n",
       "      <td>2023-06-01 07:29:40</td>\n",
       "      <td>2023-06-01 01:57:40</td>\n",
       "      <td>3.0</td>\n",
       "      <td>Technical issue</td>\n",
       "    </tr>\n",
       "    <tr>\n",
       "      <th>4</th>\n",
       "      <td>5</td>\n",
       "      <td>Alexander Carroll</td>\n",
       "      <td>bradleymark@example.com</td>\n",
       "      <td>67</td>\n",
       "      <td>Female</td>\n",
       "      <td>Autodesk AutoCAD</td>\n",
       "      <td>2020-02-04</td>\n",
       "      <td>Billing inquiry</td>\n",
       "      <td>Data loss</td>\n",
       "      <td>I'm having an issue with the Autodesk AutoCAD. Please assist.   Note: The seller is not responsible for any damages arising out of the delivery of the battleground game. Please have the game in good condition and shipped to you I've noticed a sudden decrease in battery life on my Autodesk AutoCAD. It used to last much longer.</td>\n",
       "      <td>Closed</td>\n",
       "      <td>West decision evidence bit.</td>\n",
       "      <td>Low</td>\n",
       "      <td>Email</td>\n",
       "      <td>2023-06-01 00:12:42</td>\n",
       "      <td>2023-06-01 19:53:42</td>\n",
       "      <td>1.0</td>\n",
       "      <td>Technical issue</td>\n",
       "    </tr>\n",
       "  </tbody>\n",
       "</table>\n",
       "</div>"
      ],
      "text/plain": [
       "   Ticket ID        Customer Name              Customer Email  Customer Age  \\\n",
       "0          1        Marisa Obrien  carrollallison@example.com            32   \n",
       "1          2         Jessica Rios    clarkeashley@example.com            42   \n",
       "2          3  Christopher Robbins   gonzalestracy@example.com            48   \n",
       "3          4     Christina Dillon    bradleyolson@example.org            27   \n",
       "4          5    Alexander Carroll     bradleymark@example.com            67   \n",
       "\n",
       "  Customer Gender Product Purchased Date of Purchase      Ticket Type  \\\n",
       "0           Other        GoPro Hero       2021-03-22  Technical issue   \n",
       "1          Female       LG Smart TV       2021-05-22  Technical issue   \n",
       "2           Other          Dell XPS       2020-07-14  Technical issue   \n",
       "3          Female  Microsoft Office       2020-11-13  Billing inquiry   \n",
       "4          Female  Autodesk AutoCAD       2020-02-04  Billing inquiry   \n",
       "\n",
       "             Ticket Subject  \\\n",
       "0             Product setup   \n",
       "1  Peripheral compatibility   \n",
       "2           Network problem   \n",
       "3            Account access   \n",
       "4                 Data loss   \n",
       "\n",
       "                                                                                                                                                                                                                                                                                                                        Ticket Description  \\\n",
       "0                                                      I'm having an issue with the GoPro Hero. Please assist.  Your billing zip code is: 71701.  We appreciate that you have requested a website address.  Please double check your email address. I've tried troubleshooting steps mentioned in the user manual, but the issue persists.   \n",
       "1                                                               I'm having an issue with the LG Smart TV. Please assist.  If you need to change an existing product.  I'm having an issue with the LG Smart TV. Please assist.  If The issue I'm facing is intermittent. Sometimes it works fine, but other times it acts up unexpectedly.   \n",
       "2                                                                                       I'm facing a problem with my Dell XPS. The Dell XPS is not turning on. It was working fine until yesterday, but now it doesn't respond.  1.8.3 I really I'm using the original charger that came with my Dell XPS, but it's not charging properly.   \n",
       "3                                                                      I'm having an issue with the Microsoft Office. Please assist.  If you have a problem you're interested in and I'd love to see this happen, please check out the Feedback. I've already contacted customer support multiple times, but the issue remains unresolved.   \n",
       "4  I'm having an issue with the Autodesk AutoCAD. Please assist.   Note: The seller is not responsible for any damages arising out of the delivery of the battleground game. Please have the game in good condition and shipped to you I've noticed a sudden decrease in battery life on my Autodesk AutoCAD. It used to last much longer.   \n",
       "\n",
       "               Ticket Status                                     Resolution  \\\n",
       "0  Pending Customer Response                                            NaN   \n",
       "1  Pending Customer Response                                            NaN   \n",
       "2                     Closed   Case maybe show recently my computer follow.   \n",
       "3                     Closed  Try capital clearly never color toward story.   \n",
       "4                     Closed                    West decision evidence bit.   \n",
       "\n",
       "  Ticket Priority Ticket Channel  First Response Time   Time to Resolution  \\\n",
       "0        Critical   Social media  2023-06-01 12:15:36                  NaN   \n",
       "1        Critical           Chat  2023-06-01 16:45:38                  NaN   \n",
       "2             Low   Social media  2023-06-01 11:14:38  2023-06-01 18:05:38   \n",
       "3             Low   Social media  2023-06-01 07:29:40  2023-06-01 01:57:40   \n",
       "4             Low          Email  2023-06-01 00:12:42  2023-06-01 19:53:42   \n",
       "\n",
       "   Customer Satisfaction Rating  Predicted Label  \n",
       "0                           NaN  Technical issue  \n",
       "1                           NaN  Technical issue  \n",
       "2                           3.0  Technical issue  \n",
       "3                           3.0  Technical issue  \n",
       "4                           1.0  Technical issue  "
      ]
     },
     "execution_count": 80,
     "metadata": {},
     "output_type": "execute_result"
    }
   ],
   "source": [
    "df.head()"
   ]
  },
  {
   "cell_type": "markdown",
   "id": "e12d4bec",
   "metadata": {},
   "source": [
    "We can from the `.info()` function see that we have 8469 tickets and a total of 17 columns, which refers many different variables in relation to each ticket. Most important for our problem is to look into the `Ticket Description`and also `Ticket Type`and/or `Ticket Subject` to find out which column is most relevant for our classifier"
   ]
  },
  {
   "cell_type": "code",
   "execution_count": 52,
   "id": "b107df5f",
   "metadata": {},
   "outputs": [
    {
     "data": {
      "text/plain": [
       "0                                                  I'm having an issue with the {product_purchased}. Please assist.\\n\\nYour billing zip code is: 71701.\\n\\nWe appreciate that you have requested a website address.\\n\\nPlease double check your email address. I've tried troubleshooting steps mentioned in the user manual, but the issue persists.\n",
       "1                                                    I'm having an issue with the {product_purchased}. Please assist.\\n\\nIf you need to change an existing product.\\n\\nI'm having an issue with the {product_purchased}. Please assist.\\n\\nIf The issue I'm facing is intermittent. Sometimes it works fine, but other times it acts up unexpectedly.\n",
       "2                                                               I'm facing a problem with my {product_purchased}. The {product_purchased} is not turning on. It was working fine until yesterday, but now it doesn't respond.\\n\\n1.8.3 I really I'm using the original charger that came with my {product_purchased}, but it's not charging properly.\n",
       "3                                                                            I'm having an issue with the {product_purchased}. Please assist.\\n\\nIf you have a problem you're interested in and I'd love to see this happen, please check out the Feedback. I've already contacted customer support multiple times, but the issue remains unresolved.\n",
       "4    I'm having an issue with the {product_purchased}. Please assist.\\n\\n\\nNote: The seller is not responsible for any damages arising out of the delivery of the battleground game. Please have the game in good condition and shipped to you I've noticed a sudden decrease in battery life on my {product_purchased}. It used to last much longer.\n",
       "Name: Ticket Description, dtype: object"
      ]
     },
     "execution_count": 52,
     "metadata": {},
     "output_type": "execute_result"
    }
   ],
   "source": [
    "pd.set_option('display.max_colwidth', None)\n",
    "df['Ticket Description'].head()"
   ]
  },
  {
   "cell_type": "markdown",
   "id": "d1394bd4",
   "metadata": {},
   "source": [
    "From viewing the first couple of ticket description we can see that there are some things to be aware of in the data cleaning part. First of all the `product_purchased` is encoded as product_purchased which then would refer to the column in the dataset `product_purchased`. Thus we could consider imputing the relevant product purchased into each ticket description to make a more clear description for our LLM to work with. Otherwise we should create it as a stopword for our LLM. Also we have many line breaks `/n` which we need to handle"
   ]
  },
  {
   "cell_type": "code",
   "execution_count": 53,
   "id": "17455567",
   "metadata": {},
   "outputs": [
    {
     "name": "stdout",
     "output_type": "stream",
     "text": [
      "Ticket Type\n",
      "Refund request          1752\n",
      "Technical issue         1747\n",
      "Cancellation request    1695\n",
      "Product inquiry         1641\n",
      "Billing inquiry         1634\n",
      "Name: count, dtype: int64\n",
      "----------------------------------------------------------------------------------------------------\n",
      "Ticket Subject\n",
      "Refund request              576\n",
      "Software bug                574\n",
      "Product compatibility       567\n",
      "Delivery problem            561\n",
      "Hardware issue              547\n",
      "Battery life                542\n",
      "Network problem             539\n",
      "Installation support        530\n",
      "Product setup               529\n",
      "Payment issue               526\n",
      "Product recommendation      517\n",
      "Account access              509\n",
      "Peripheral compatibility    496\n",
      "Data loss                   491\n",
      "Cancellation request        487\n",
      "Display issue               478\n",
      "Name: count, dtype: int64\n"
     ]
    }
   ],
   "source": [
    "print(df['Ticket Type'].value_counts())\n",
    "print('--'*50)\n",
    "print(df['Ticket Subject'].value_counts())"
   ]
  },
  {
   "cell_type": "markdown",
   "id": "1517997f",
   "metadata": {},
   "source": [
    "From the value counts of both the type and subject we can see that there is a nice distribution. For the sake of simplicity but also relevance, we will use the `Ticket Type` as our target as it refers to 5 relevant types of tickets which then different departments of the customer service department can focus on"
   ]
  },
  {
   "cell_type": "markdown",
   "id": "b2b637be",
   "metadata": {},
   "source": [
    "# 2. Data cleaning\n",
    "\n",
    "First of all we will clean the ticket descriptions so we can make the ticket descriptions most clear."
   ]
  },
  {
   "cell_type": "code",
   "execution_count": 54,
   "id": "7c7db3e8",
   "metadata": {},
   "outputs": [
    {
     "data": {
      "text/plain": [
       "0    I'm having an issue with the {product_purchased}. Please assist.  Your billing zip code is: 71701.  We appreciate that you have requested a website address.  Please double check your email address. I've tried troubleshooting steps mentioned in the user manual, but the issue persists.\n",
       "Name: Ticket Description, dtype: object"
      ]
     },
     "execution_count": 54,
     "metadata": {},
     "output_type": "execute_result"
    }
   ],
   "source": [
    "# Removing all line breaks\n",
    "df['Ticket Description'] = df['Ticket Description'].str.replace('\\n', ' ', regex=True)\n",
    "df['Ticket Description'].head(1)"
   ]
  },
  {
   "cell_type": "markdown",
   "id": "e1cc5f69",
   "metadata": {},
   "source": [
    "Now we are also going to replace the `product purchased` in the ticket description with the actual products purchased from the same row as that will hopefully help the LLM integrating more information on the ticket. "
   ]
  },
  {
   "cell_type": "code",
   "execution_count": 55,
   "id": "a156f4fb",
   "metadata": {},
   "outputs": [
    {
     "data": {
      "text/plain": [
       "0    I'm having an issue with the GoPro Hero. Please assist.  Your billing zip code is: 71701.  We appreciate that you have requested a website address.  Please double check your email address. I've tried troubleshooting steps mentioned in the user manual, but the issue persists.\n",
       "1             I'm having an issue with the LG Smart TV. Please assist.  If you need to change an existing product.  I'm having an issue with the LG Smart TV. Please assist.  If The issue I'm facing is intermittent. Sometimes it works fine, but other times it acts up unexpectedly.\n",
       "2                                     I'm facing a problem with my Dell XPS. The Dell XPS is not turning on. It was working fine until yesterday, but now it doesn't respond.  1.8.3 I really I'm using the original charger that came with my Dell XPS, but it's not charging properly.\n",
       "Name: Ticket Description, dtype: object"
      ]
     },
     "execution_count": 55,
     "metadata": {},
     "output_type": "execute_result"
    }
   ],
   "source": [
    "# Function to replace placeholder with actual product name\n",
    "def replace_product(description, product):\n",
    "    if pd.isna(description):  # handle missing text\n",
    "        return description\n",
    "    if pd.isna(product):      # handle missing product name\n",
    "        product = \"product\"\n",
    "    return description.replace('{product_purchased}', str(product))\n",
    "\n",
    "# Apply the replacement for each row\n",
    "df['Ticket Description'] = df.apply(\n",
    "    lambda row: replace_product(row['Ticket Description'], row['Product Purchased']),\n",
    "    axis=1\n",
    ")\n",
    "\n",
    "# Preview result\n",
    "df['Ticket Description'].head(3)\n"
   ]
  },
  {
   "cell_type": "markdown",
   "id": "274c2989",
   "metadata": {},
   "source": [
    "# 3. API connection - Gemini\n",
    "\n",
    "I am going to use Gemini's 2.5 flash-lite model as the LLM which we are going to call via an API"
   ]
  },
  {
   "cell_type": "code",
   "execution_count": 56,
   "id": "7cccb93b",
   "metadata": {},
   "outputs": [
    {
     "name": "stdout",
     "output_type": "stream",
     "text": [
      "✅ OpenAI client configured for Gemini.\n"
     ]
    }
   ],
   "source": [
    "from openai import OpenAI\n",
    "from dotenv import load_dotenv\n",
    "# Load environment variables from .env file\n",
    "load_dotenv()\n",
    "api_key = os.getenv(\"GEMINI_API_KEY\")\n",
    "\n",
    "client = None\n",
    "if not api_key:\n",
    "    print(\"⚠️ Set GEMINI_API_KEY in environment or a .env file\")\n",
    "else:\n",
    "    # Configure the OpenAI client to point to Google's endpoint\n",
    "    client = OpenAI(\n",
    "        api_key=api_key,\n",
    "        base_url=\"https://generativelanguage.googleapis.com/v1beta/openai/\"\n",
    "    )\n",
    "    print(\"✅ OpenAI client configured for Gemini.\")"
   ]
  },
  {
   "cell_type": "code",
   "execution_count": 57,
   "id": "ec5c6635",
   "metadata": {},
   "outputs": [
    {
     "name": "stdout",
     "output_type": "stream",
     "text": [
      "✅ API access confirmed.\n",
      "Response: Hello there! How can I help you today?\n"
     ]
    },
    {
     "data": {
      "text/plain": [
       "True"
      ]
     },
     "execution_count": 57,
     "metadata": {},
     "output_type": "execute_result"
    }
   ],
   "source": [
    "def check_api_access(client=None):\n",
    "    \"\"\"Checks if the API can be accessed via the OpenAI-style client.\n",
    "\n",
    "    Tries to use a passed `client` first, otherwise looks for a global `client`.\n",
    "    Handles different response shapes gracefully.\n",
    "    \"\"\"\n",
    "    # Resolve client\n",
    "    if client is None:\n",
    "        client = globals().get(\"client\")\n",
    "\n",
    "    if not client:\n",
    "        print(\"❌ Client not configured. Please set API key and initialize the OpenAI client as `client = OpenAI(...)`.\")\n",
    "        return False\n",
    "\n",
    "    try:\n",
    "        completion = client.chat.completions.create(\n",
    "            model=\"gemini-2.5-flash-lite\",\n",
    "            messages=[{\"role\": \"user\", \"content\": \"Hello, world!\"}],\n",
    "            timeout=10\n",
    "        )\n",
    "\n",
    "        # Robust extraction of text from various response shapes\n",
    "        content = None\n",
    "        try:\n",
    "            content = completion.choices[0].message.content\n",
    "        except Exception:\n",
    "            try:\n",
    "                content = completion.choices[0].text\n",
    "            except Exception:\n",
    "                content = getattr(completion, \"text\", None)\n",
    "\n",
    "        print(\"✅ API access confirmed.\")\n",
    "        print(f\"Response: {content}\")\n",
    "        return True\n",
    "\n",
    "    except Exception as e:\n",
    "        print(f\"❌ API error: {e}\")\n",
    "        print(\"Please ensure your API key is correct and you have internet access.\")\n",
    "        return False\n",
    "\n",
    "# Run the check\n",
    "check_api_access()"
   ]
  },
  {
   "cell_type": "markdown",
   "id": "449104b3",
   "metadata": {},
   "source": [
    "# 3. Baseline classifier\n",
    "\n",
    "In this section we will create a baseline model where our LLM will try and classify the customer inquiries without previous examples to learn from"
   ]
  },
  {
   "cell_type": "code",
   "execution_count": 58,
   "id": "8b7bc264",
   "metadata": {},
   "outputs": [],
   "source": [
    "from pydantic import BaseModel, Field\n",
    "from typing import Literal\n",
    "\n",
    "# ✅ Allowed ticket types\n",
    "ALLOWED_TICKET_TYPES = [\n",
    "    \"Refund request\",\n",
    "    \"Technical issue\",\n",
    "    \"Cancellation request\",\n",
    "    \"Product inquiry\",\n",
    "    \"Billing inquiry\"\n",
    "]\n",
    "\n",
    "# ✅ Pydantic schema for structured output\n",
    "class SingleLabelPrediction(BaseModel):\n",
    "    predicted_label: Literal[\n",
    "        \"Refund request\",\n",
    "        \"Technical issue\",\n",
    "        \"Cancellation request\",\n",
    "        \"Product inquiry\",\n",
    "        \"Billing inquiry\"\n",
    "    ] = Field(description=\"The best-fit ticket type label for the given ticket description.\")\n",
    "\n",
    "# ✅ Zero-shot classification function\n",
    "# ...existing code...\n",
    "def classify_ticket(description: str) -> str:\n",
    "    \"\"\"\n",
    "    Call the LLM and return a plain label string.\n",
    "    Handles common SDK response shapes.\n",
    "    \"\"\"\n",
    "    if client is None:\n",
    "        raise ValueError(\"Client not configured. Initialize `client = OpenAI(...)` with your API key.\")\n",
    "\n",
    "    prompt = f\"\"\"\n",
    "You are a customer support classifier.\n",
    "Classify the following ticket description into ONE of these categories:\n",
    "- Refund request\n",
    "- Technical issue\n",
    "- Cancellation request\n",
    "- Product inquiry\n",
    "- Billing inquiry\n",
    "\n",
    "Ticket description:\n",
    "\\\"\\\"\\\"{description}\\\"\\\"\\\"\n",
    "\n",
    "Respond only with the most appropriate label.\n",
    "\"\"\"\n",
    "\n",
    "    try:\n",
    "        resp = client.chat.completions.create(\n",
    "            model=\"gemini-2.5-flash-lite\",\n",
    "            messages=[\n",
    "                {\"role\": \"system\", \"content\": \"You are a precise and reliable classifier for support tickets.\"},\n",
    "                {\"role\": \"user\", \"content\": prompt},\n",
    "            ],\n",
    "            timeout=20\n",
    "        )\n",
    "    except Exception as e:\n",
    "        raise RuntimeError(f\"LLM request failed: {e}\")\n",
    "\n",
    "    # Try common response shapes to extract the label\n",
    "    label = None\n",
    "    try:\n",
    "        label = resp.choices[0].message.content.strip()\n",
    "    except Exception:\n",
    "        pass\n",
    "    if not label:\n",
    "        try:\n",
    "            label = resp.choices[0].text.strip()\n",
    "        except Exception:\n",
    "            pass\n",
    "    if not label:\n",
    "        try:\n",
    "            candidate = resp[0] if hasattr(resp, \"__getitem__\") else resp\n",
    "            label = getattr(candidate, \"predicted_label\", None)\n",
    "            if isinstance(label, str):\n",
    "                label = label.strip()\n",
    "        except Exception:\n",
    "            pass\n",
    "    if not label:\n",
    "        label = (getattr(resp, \"text\", \"\") or \"\").strip() or None\n",
    "\n",
    "    if not label:\n",
    "        raise RuntimeError(f\"Could not extract label from model response. Inspect response: {repr(resp)[:1000]}\")\n",
    "\n",
    "    return label\n",
    "\n",
    "\n",
    "\n"
   ]
  },
  {
   "cell_type": "markdown",
   "id": "78316a37",
   "metadata": {},
   "source": [
    "### Batch Processing\n",
    "\n",
    "As i only have 15 requests per minute from Gemini's model, i will do batch processing to make predictions on the first 100 tickets. This means that the LLM will predict 10 at a time:"
   ]
  },
  {
   "cell_type": "code",
   "execution_count": 62,
   "id": "7d3cd286",
   "metadata": {},
   "outputs": [],
   "source": [
    "import json\n",
    "\n",
    "batch_size = 10\n",
    "sample_tickets = df[\"Ticket Description\"].head(100)\n",
    "predicted_labels = []\n",
    "\n",
    "for i in range(0, len(sample_tickets), batch_size):\n",
    "    batch = sample_tickets[i:i+batch_size]\n",
    "    \n",
    "    # Prepare prompt\n",
    "    prompt = \"Classify the following tickets into one of these categories: Refund request, Technical issue, Cancellation request, Product inquiry, Billing inquiry.\\n\\n\"\n",
    "    for idx, ticket in enumerate(batch, 1):\n",
    "        prompt += f\"Ticket {idx}: {ticket}\\n\"\n",
    "    prompt += \"\\nRespond with a JSON array of labels in order, e.g. [\\\"Refund request\\\", \\\"Technical issue\\\", ...]\"\n",
    "\n",
    "    # LLM call\n",
    "    resp = client.chat.completions.create(\n",
    "        model=\"gemini-2.5-flash-lite\",\n",
    "        messages=[\n",
    "            {\"role\": \"system\", \"content\": \"You are a precise and reliable classifier for support tickets.\"},\n",
    "            {\"role\": \"user\", \"content\": prompt},\n",
    "        ],\n",
    "        timeout=30\n",
    "    )\n",
    "\n",
    "    # Extract text\n",
    "    text = resp.choices[0].message.content.strip()\n",
    "\n",
    "    # Remove backticks if present\n",
    "    if text.startswith(\"```\") and text.endswith(\"```\"):\n",
    "        text = \"\\n\".join(text.split(\"\\n\")[1:-1])\n",
    "\n",
    "    # Parse JSON\n",
    "    try:\n",
    "        labels = json.loads(text)\n",
    "        if not isinstance(labels, list) or len(labels) != len(batch):\n",
    "            raise ValueError(\"Unexpected JSON structure\")\n",
    "    except Exception as e:\n",
    "        raise RuntimeError(f\"Failed to parse labels from model:\\n{text}\\nError: {e}\")\n",
    "\n",
    "    predicted_labels.extend(labels)\n",
    "\n",
    "# Save predicted labels\n",
    "df.loc[:len(predicted_labels)-1, \"Predicted Label\"] = predicted_labels\n",
    "\n",
    "\n",
    "\n",
    "\n"
   ]
  },
  {
   "cell_type": "code",
   "execution_count": 63,
   "id": "01a29b7d",
   "metadata": {},
   "outputs": [
    {
     "data": {
      "text/plain": [
       "Predicted Label\n",
       "nan                8369\n",
       "Technical issue      97\n",
       "Refund request        2\n",
       "Billing inquiry       1\n",
       "Name: count, dtype: int64"
      ]
     },
     "execution_count": 63,
     "metadata": {},
     "output_type": "execute_result"
    }
   ],
   "source": [
    "df['Predicted Label'].value_counts()"
   ]
  },
  {
   "cell_type": "markdown",
   "id": "43bd0153",
   "metadata": {},
   "source": [
    "So by running through the first 100 we can see that the classifier 97 times predict the label as a technical issue. Let us look into that problem. We are going to run a general classification report and an accuracy score first:"
   ]
  },
  {
   "cell_type": "code",
   "execution_count": 64,
   "id": "aab10d5a",
   "metadata": {},
   "outputs": [
    {
     "name": "stdout",
     "output_type": "stream",
     "text": [
      "                      precision    recall  f1-score   support\n",
      "\n",
      "      Refund request       0.00      0.00      0.00        18\n",
      "     Technical issue       0.26      0.93      0.40        27\n",
      "Cancellation request       0.00      0.00      0.00        17\n",
      "     Product inquiry       0.00      0.00      0.00        21\n",
      "     Billing inquiry       0.00      0.00      0.00        17\n",
      "\n",
      "            accuracy                           0.25       100\n",
      "           macro avg       0.05      0.19      0.08       100\n",
      "        weighted avg       0.07      0.25      0.11       100\n",
      "\n",
      "Overall accuracy on ticket types: 0.25\n"
     ]
    }
   ],
   "source": [
    "# Calculate precision and recall\n",
    "from sklearn.metrics import classification_report, accuracy_score\n",
    "report = classification_report(\n",
    "    df['Ticket Type'].head(100),\n",
    "    df['Predicted Label'].head(100),\n",
    "    labels=ALLOWED_TICKET_TYPES,\n",
    "    zero_division=0\n",
    ")\n",
    "print(report)\n",
    "\n",
    "accuracy_1 = accuracy_score(\n",
    "    df['Ticket Type'].head(100),\n",
    "    df['Predicted Label'].head(100)\n",
    ")\n",
    "print(f\"Overall accuracy on ticket types: {accuracy_1:.2f}\")"
   ]
  },
  {
   "cell_type": "markdown",
   "id": "8de5dd90",
   "metadata": {},
   "source": [
    "So the overall accuracy is 25% which relates to the fact the our classifier almost classifies all tickets as technical issues and there are 27 technical issues in the 100 observation we predicted from."
   ]
  },
  {
   "cell_type": "markdown",
   "id": "e95f6151",
   "metadata": {},
   "source": [
    "Let us look into the descriptions and see why this problem occurs\n"
   ]
  },
  {
   "cell_type": "code",
   "execution_count": 65,
   "id": "f625de41",
   "metadata": {},
   "outputs": [
    {
     "name": "stdout",
     "output_type": "stream",
     "text": [
      "                                                                                                                                                                                                                                                                                                                                  Ticket Description  \\\n",
      "3                                                                                I'm having an issue with the Microsoft Office. Please assist.  If you have a problem you're interested in and I'd love to see this happen, please check out the Feedback. I've already contacted customer support multiple times, but the issue remains unresolved.   \n",
      "4            I'm having an issue with the Autodesk AutoCAD. Please assist.   Note: The seller is not responsible for any damages arising out of the delivery of the battleground game. Please have the game in good condition and shipped to you I've noticed a sudden decrease in battery life on my Autodesk AutoCAD. It used to last much longer.   \n",
      "5                                                              I'm facing a problem with my Microsoft Office. The Microsoft Office is not turning on. It was working fine until yesterday, but now it doesn't respond. To remove the new {product_purch I've checked for any available software updates for my Microsoft Office, but there are none.   \n",
      "6  I'm unable to access my Microsoft Surface account. It keeps displaying an 'Invalid Credentials' error, even though I'm using the correct login information. How can I regain access to my account?  Solution 1 I'm unable to find the option to perform the desired action in the Microsoft Surface. Could you please guide me through the steps?   \n",
      "7           I'm having an issue with the Philips Hue Lights. Please assist. (Thanks) I will contact all my suppliers and confirm.  Please try and find out whether their inventory is currently stocked, or any other reason. I am I've performed a factory reset on my Philips Hue Lights, hoping it would resolve the problem, but it didn't help.   \n",
      "\n",
      "   Predicted Label           Ticket Type  \n",
      "3  Technical issue       Billing inquiry  \n",
      "4  Technical issue       Billing inquiry  \n",
      "5  Technical issue  Cancellation request  \n",
      "6  Technical issue       Product inquiry  \n",
      "7  Technical issue        Refund request  \n"
     ]
    }
   ],
   "source": [
    "# Filter mismatches\n",
    "mismatches = df[df[\"Predicted Label\"] != df[\"Ticket Type\"]]\n",
    "\n",
    "# Preview first 10 mismatches\n",
    "print(mismatches[[\"Ticket Description\", \"Predicted Label\", \"Ticket Type\"]].head(5))\n"
   ]
  },
  {
   "cell_type": "markdown",
   "id": "b10ccc15",
   "metadata": {},
   "source": [
    "So looking at the first 5 mismatches we can see why the classifier predicts as it does. In the Ticket Description the customer actually only describes their issue and not their specific inquiry or request. Thus it would be difficult for an LLM to display anything but a technical issue as the ticket type. Also when looking into the description we can actually interpret them as being kind of the interaction between the customer and the service department. This means that the descriptions might be too messy or unclear for an LLM to work with"
   ]
  },
  {
   "cell_type": "markdown",
   "id": "3a9e9dae",
   "metadata": {},
   "source": [
    "So based on this observation it will actually be difficult to create a classifier that can classify the Ticket type based on the descriptions as the descriptions mostly contain the technincal issue that the customer face with the product, but not the actual action that they want in relation to this issue.\n",
    "\n",
    "**New Plan:** We will look into the `Ticket Subject` variable instead and see if we can create a more reliable classifier:"
   ]
  },
  {
   "cell_type": "code",
   "execution_count": 67,
   "id": "c5bcc0a9",
   "metadata": {},
   "outputs": [
    {
     "data": {
      "text/plain": [
       "Ticket Subject\n",
       "Refund request              576\n",
       "Software bug                574\n",
       "Product compatibility       567\n",
       "Delivery problem            561\n",
       "Hardware issue              547\n",
       "Battery life                542\n",
       "Network problem             539\n",
       "Installation support        530\n",
       "Product setup               529\n",
       "Payment issue               526\n",
       "Product recommendation      517\n",
       "Account access              509\n",
       "Peripheral compatibility    496\n",
       "Data loss                   491\n",
       "Cancellation request        487\n",
       "Display issue               478\n",
       "Name: count, dtype: int64"
      ]
     },
     "execution_count": 67,
     "metadata": {},
     "output_type": "execute_result"
    }
   ],
   "source": [
    "df['Ticket Subject'].value_counts()"
   ]
  },
  {
   "cell_type": "markdown",
   "id": "c2e72afc",
   "metadata": {},
   "source": [
    "We are going to try to create a classifier that can predict the Ticket subject instead. For simplicity i am going to create second dataset where i then remove some of the subject and only focus on 5 for testing purposes. The 5 chosen subjects mosly relates to `Technical Issues` as we can see the model mostly finds the descriptions as technical issues"
   ]
  },
  {
   "cell_type": "code",
   "execution_count": 68,
   "id": "d8c28ae8",
   "metadata": {},
   "outputs": [
    {
     "name": "stdout",
     "output_type": "stream",
     "text": [
      "Ticket Subject\n",
      "Software bug             574\n",
      "Product compatibility    567\n",
      "Hardware issue           547\n",
      "Battery life             542\n",
      "Network problem          539\n",
      "Name: count, dtype: int64\n",
      "(2769, 18)\n"
     ]
    }
   ],
   "source": [
    "df_2 = df.copy()\n",
    "selected_subjects = [\"Software bug\", \"Product compatibility\", \"Hardware issue\", \"Battery life\", \"Network problem\"]\n",
    "df_2 = df_2[df_2['Ticket Subject'].isin(selected_subjects)]\n",
    "df_2 = df_2.reset_index(drop=True)\n",
    "print(df_2['Ticket Subject'].value_counts())\n",
    "print(df_2.shape)"
   ]
  },
  {
   "cell_type": "markdown",
   "id": "2ed3f052",
   "metadata": {},
   "source": [
    "So now we have 2769 tickets to work with and only 5 possible Ticket subjects to focus on. We are going to begin again with the **baseline model** where we do zero-shot classification, just to get a feeling about if the LLM have more succes with predicting the Ticket Subject."
   ]
  },
  {
   "cell_type": "code",
   "execution_count": 71,
   "id": "55b6e38b",
   "metadata": {},
   "outputs": [],
   "source": [
    "\n",
    "from pydantic import BaseModel, Field\n",
    "from typing import Literal\n",
    "\n",
    "# ===============================\n",
    "# Allowed ticket subjects\n",
    "# ===============================\n",
    "ALLOWED_TICKET_SUBJECTS = [\n",
    "    \"Software bug\",\n",
    "    \"Product compatibility\",\n",
    "    \"Hardware issue\",\n",
    "    \"Battery life\",\n",
    "    \"Network problem\"\n",
    "]\n",
    "\n",
    "# Optional Pydantic schema\n",
    "class SingleLabelPrediction(BaseModel):\n",
    "    predicted_subject: Literal[\n",
    "        \"Software bug\",\n",
    "        \"Product compatibility\",\n",
    "        \"Hardware issue\",\n",
    "        \"Battery life\",\n",
    "        \"Network problem\"\n",
    "    ] = Field(description=\"The best-fit ticket subject label for the given ticket description.\")\n",
    "\n",
    "# ===============================\n",
    "# Zero-shot classification function\n",
    "# ===============================\n",
    "def classify_ticket(description: str) -> str:\n",
    "    \"\"\"Call Gemini LLM and return the predicted subject as a string.\"\"\"\n",
    "    if client is None:\n",
    "        raise ValueError(\"Client not configured. Initialize `client = OpenAI(...)` with your API key.\")\n",
    "    \n",
    "    prompt = f\"\"\"\n",
    "You are a customer support ticket classifier.\n",
    "Classify the following ticket description from a tech company into ONE of these categories:\n",
    "- Software bug\n",
    "- Product compatibility\n",
    "- Hardware issue\n",
    "- Battery life\n",
    "- Network problem\n",
    "\n",
    "Ticket description:\n",
    "\\\"\\\"\\\"{description}\\\"\\\"\\\"\n",
    "\n",
    "Respond only with the most appropriate label.\n",
    "\"\"\"\n",
    "    resp = client.chat.completions.create(\n",
    "        model=\"gemini-2.5-flash-lite\",\n",
    "        messages=[\n",
    "            {\"role\": \"system\", \"content\": \"You are a precise and reliable classifier for support tickets.\"},\n",
    "            {\"role\": \"user\", \"content\": prompt},\n",
    "        ],\n",
    "        timeout=20\n",
    "    )\n",
    "\n",
    "    text = resp.choices[0].message.content.strip()\n",
    "\n",
    "    # Remove Markdown ``` wrapping if present\n",
    "    if text.startswith(\"```\") and text.endswith(\"```\"):\n",
    "        lines = text.split(\"\\n\")\n",
    "        text = \"\\n\".join(lines[1:-1])\n",
    "\n",
    "    return text.strip()\n",
    "\n",
    "\n"
   ]
  },
  {
   "cell_type": "code",
   "execution_count": 81,
   "id": "465770aa",
   "metadata": {},
   "outputs": [],
   "source": [
    "import json\n",
    "\n",
    "batch_size = 10\n",
    "sample_tickets = df_2[\"Ticket Description\"].head(100)\n",
    "predicted_subjects = []\n",
    "\n",
    "for i in range(0, len(sample_tickets), batch_size):\n",
    "    batch = sample_tickets[i:i + batch_size]\n",
    "\n",
    "    # Prepare prompt\n",
    "    prompt = (\n",
    "        \"You are a customer support classifier.\\n\"\n",
    "        \"Classify each of the following ticket descriptions into exactly ONE of these categories:\\n\"\n",
    "        \"- Software bug\\n\"\n",
    "        \"- Product compatibility\\n\"\n",
    "        \"- Hardware issue\\n\"\n",
    "        \"- Battery life\\n\"\n",
    "        \"- Network problem\\n\\n\"\n",
    "    )\n",
    "\n",
    "    for idx, ticket in enumerate(batch, 1):\n",
    "        prompt += f\"Ticket {idx}: {ticket}\\n\"\n",
    "\n",
    "    prompt += (\n",
    "        \"\\nRespond with a JSON array of the predicted subjects in order, \"\n",
    "        \"e.g. [\\\"Software bug\\\", \\\"Network problem\\\", ...]\"\n",
    "    )\n",
    "\n",
    "    # LLM call\n",
    "    resp = client.chat.completions.create(\n",
    "        model=\"gemini-2.5-flash-lite\",\n",
    "        messages=[\n",
    "            {\"role\": \"system\", \"content\": \"You are a precise and reliable classifier for technical support tickets.\"},\n",
    "            {\"role\": \"user\", \"content\": prompt},\n",
    "        ],\n",
    "        timeout=30,\n",
    "    )\n",
    "\n",
    "    # Extract text\n",
    "    text = resp.choices[0].message.content.strip()\n",
    "\n",
    "    # Remove code fences if present\n",
    "    if text.startswith(\"```\") and text.endswith(\"```\"):\n",
    "        text = \"\\n\".join(text.split(\"\\n\")[1:-1]).strip()\n",
    "\n",
    "    # Parse JSON response\n",
    "    try:\n",
    "        labels = json.loads(text)\n",
    "        if not isinstance(labels, list) or len(labels) != len(batch):\n",
    "            raise ValueError(\"Unexpected JSON format or wrong number of labels\")\n",
    "    except Exception as e:\n",
    "        raise RuntimeError(f\"Failed to parse labels from model:\\n{text}\\nError: {e}\")\n",
    "\n",
    "    predicted_subjects.extend(labels)\n",
    "\n",
    "# Save results\n",
    "df_2.loc[:len(predicted_subjects) - 1, \"Predicted Subject\"] = predicted_subjects\n",
    "\n",
    "\n"
   ]
  },
  {
   "cell_type": "code",
   "execution_count": 82,
   "id": "5ab8d6dd",
   "metadata": {},
   "outputs": [
    {
     "name": "stdout",
     "output_type": "stream",
     "text": [
      "           Ticket Subject Predicted Subject\n",
      "0         Network problem    Hardware issue\n",
      "1            Battery life      Software bug\n",
      "2            Software bug      Software bug\n",
      "3          Hardware issue      Software bug\n",
      "4            Software bug      Software bug\n",
      "..                    ...               ...\n",
      "95           Software bug      Software bug\n",
      "96         Hardware issue      Software bug\n",
      "97           Software bug      Battery life\n",
      "98  Product compatibility   Network problem\n",
      "99        Network problem      Software bug\n",
      "\n",
      "[100 rows x 2 columns]\n"
     ]
    }
   ],
   "source": [
    "# Preview results\n",
    "print(df_2.loc[:99, [\"Ticket Subject\", \"Predicted Subject\"]])"
   ]
  },
  {
   "cell_type": "code",
   "execution_count": 83,
   "id": "2d27fd78",
   "metadata": {},
   "outputs": [
    {
     "name": "stdout",
     "output_type": "stream",
     "text": [
      "                       precision    recall  f1-score   support\n",
      "\n",
      "         Software bug       0.27      0.80      0.41        25\n",
      "Product compatibility       0.00      0.00      0.00        21\n",
      "       Hardware issue       0.00      0.00      0.00        18\n",
      "         Battery life       0.00      0.00      0.00        19\n",
      "      Network problem       0.00      0.00      0.00        17\n",
      "\n",
      "             accuracy                           0.20       100\n",
      "            macro avg       0.05      0.16      0.08       100\n",
      "         weighted avg       0.07      0.20      0.10       100\n",
      "\n",
      "Overall accuracy on filtered subjects: 0.20\n"
     ]
    },
    {
     "data": {
      "image/png": "[encoded data removed]",
      "text/plain": [
       "<Figure size 700x700 with 2 Axes>"
      ]
     },
     "metadata": {},
     "output_type": "display_data"
    }
   ],
   "source": [
    "from sklearn.metrics import accuracy_score, ConfusionMatrixDisplay\n",
    "import matplotlib.pyplot as plt\n",
    "report_2 = classification_report(\n",
    "    df_2['Ticket Subject'].head(100),\n",
    "    df_2['Predicted Subject'].head(100),\n",
    "    labels=ALLOWED_TICKET_SUBJECTS,\n",
    "    zero_division=0\n",
    ")\n",
    "print(report_2)\n",
    "\n",
    "# Overall accuracy\n",
    "accuracy_2 = accuracy_score(\n",
    "    df_2['Ticket Subject'].head(100),\n",
    "    df_2['Predicted Subject'].head(100)\n",
    ")\n",
    "print(f\"Overall accuracy on filtered subjects: {accuracy_2:.2f}\")\n",
    "\n",
    "#Confusion Matrix:\n",
    "# True and predicted labels\n",
    "y_true = df_2[\"Ticket Subject\"].head(100)\n",
    "y_pred = df_2[\"Predicted Subject\"].head(100)\n",
    "\n",
    "# Plot confusion matrix\n",
    "fig, ax = plt.subplots(figsize=(7, 7))\n",
    "ConfusionMatrixDisplay.from_predictions(\n",
    "    y_true,\n",
    "    y_pred,\n",
    "    labels=ALLOWED_TICKET_SUBJECTS,  # ensures consistent ordering\n",
    "    ax=ax,\n",
    "    cmap='Blues'\n",
    ")\n",
    "\n",
    "ax.set_title(\"Confusion Matrix — Zero-Shot Ticket Classification\")\n",
    "plt.xticks(rotation=45)\n",
    "plt.tight_layout()\n",
    "plt.show()"
   ]
  },
  {
   "cell_type": "markdown",
   "id": "47a84428",
   "metadata": {},
   "source": [
    "**Conclusion on zero-shot classifier:**\n",
    "\n",
    "The classifier on Ticket Subject seems to be vulnerable to the same issue as for the classifier for type as 73 of the predicted subjects were `Software bug`. Overall the accuracy here was actually lower than in the ticket type classifier with an accuracy of 20%. Mostly coming from predicting Software bugs. Interestingly it still struggles to find the other subjects, and actually predicts those some times but can't catch them still. We could suspect that this is a data problem where the descriptions are unclear in actually what the problem is. We are going to try to improve the classifier by doing few-shot classification:\n",
    "\n",
    "### Few-shot Classifier\n",
    "\n",
    "I am going to start by providing some examples from the dataset for the model to learn from:"
   ]
  },
  {
   "cell_type": "code",
   "execution_count": 84,
   "id": "a715fd99",
   "metadata": {},
   "outputs": [
    {
     "name": "stdout",
     "output_type": "stream",
     "text": [
      "{'Software bug': \"My PlayStation is making strange noises and not functioning properly. I suspect there might be a hardware issue. Can you please help me with this? Thank you! Thanks again for your help.  I'm currently in the I've noticed that the issue occurs consistently when I use a specific feature or application on my PlayStation.\", 'Product compatibility': 'I\\'ve forgotten my password for my Fitbit Versa Smartwatch account, and the password reset option is not working. How can I recover my account?  [Error \"Invalid password for Product Purchase\" when the page notifies you that I need assistance as soon as possible because it\\'s affecting my work and productivity.', 'Hardware issue': \"I'm having an issue with the GoPro Hero. Please assist. This problem started occurring after the recent software update. I haven't made any other changes to the device.\", 'Battery life': \"The Samsung Galaxy is unable to establish a stable internet connection. It keeps disconnecting intermittently. How can I troubleshoot this network problem? I've recently updated the firmware of my Samsung Galaxy, and the issue started happening afterward. Could it be related to the update?\", 'Network problem': \"I'm having an issue with the Bose QuietComfort. Please assist.  1) This item has been sent to its original address:  http://puu.sh/GxuXm.png  2 I've checked for any available software updates for my Bose QuietComfort, but there are none.\"}\n"
     ]
    }
   ],
   "source": [
    "\n",
    "\n",
    "# We want 1 example per label for few-shot\n",
    "examples = {}\n",
    "\n",
    "for label in ALLOWED_TICKET_SUBJECTS:\n",
    "    # Exclude the tickets in the batch you plan to classify\n",
    "    label_rows = df_2[df_2[\"Ticket Subject\"] == label]\n",
    "    \n",
    "    # Sample 1 random row safely (not including the current batch)\n",
    "    example_row = label_rows.sample(1, random_state=42)  # reproducible\n",
    "    examples[label] = example_row[\"Ticket Description\"].values[0]\n",
    "\n",
    "print(examples)\n"
   ]
  },
  {
   "cell_type": "code",
   "execution_count": 85,
   "id": "825c4e29",
   "metadata": {},
   "outputs": [],
   "source": [
    "import json\n",
    "\n",
    "def few_shot_classify(\n",
    "    df,                       # DataFrame with tickets\n",
    "    tickets_to_classify,       # Series or list of ticket descriptions\n",
    "    allowed_labels,            # List of possible categories\n",
    "    client,                    # Gemini client\n",
    "    batch_size=10\n",
    "):\n",
    "    \"\"\"\n",
    "    Perform few-shot classification using Gemini LLM.\n",
    "    Shows 1 example per label in the prompt.\n",
    "\n",
    "    Returns a list of predicted labels.\n",
    "    \"\"\"\n",
    "    predicted_labels = []\n",
    "\n",
    "    for i in range(0, len(tickets_to_classify), batch_size):\n",
    "        batch = tickets_to_classify[i:i + batch_size]\n",
    "        current_batch_indices = batch.index if hasattr(batch, \"index\") else []\n",
    "\n",
    "        # Build few-shot examples: 1 per label, excluding tickets in current batch\n",
    "        examples = {}\n",
    "        for label in allowed_labels:\n",
    "            label_rows = df[\n",
    "                (df[\"Ticket Subject\"] == label) &\n",
    "                (~df.index.isin(current_batch_indices))\n",
    "            ]\n",
    "            if not label_rows.empty:\n",
    "                example_row = label_rows.sample(1, random_state=42)\n",
    "                examples[label] = example_row[\"Ticket Description\"].values[0]\n",
    "            else:\n",
    "                # fallback if no other row available\n",
    "                examples[label] = f\"Example {label}\"\n",
    "\n",
    "        # Construct the prompt\n",
    "        few_shot_section = \"Here are a few examples:\\n\\n\"\n",
    "        for label, text in examples.items():\n",
    "            few_shot_section += f\"Example ({label}): {text}\\n\"\n",
    "        few_shot_section += \"\\nNow classify the following new tickets:\\n\\n\"\n",
    "\n",
    "        prompt = (\n",
    "            \"You are a customer support classifier.\\n\"\n",
    "            \"Classify each ticket into exactly ONE of these categories:\\n\"\n",
    "        )\n",
    "        for label in allowed_labels:\n",
    "            prompt += f\"- {label}\\n\"\n",
    "        prompt += \"\\n\" + few_shot_section\n",
    "\n",
    "        for idx, ticket in enumerate(batch, 1):\n",
    "            prompt += f\"Ticket {idx}: {ticket}\\n\"\n",
    "\n",
    "        prompt += (\n",
    "            \"\\nRespond with a JSON array of predicted categories in order, \"\n",
    "            \"e.g. [\\\"Software bug\\\", \\\"Network problem\\\", ...]\"\n",
    "        )\n",
    "\n",
    "        # Call Gemini LLM\n",
    "        resp = client.chat.completions.create(\n",
    "            model=\"gemini-2.5-flash-lite\",\n",
    "            messages=[\n",
    "                {\"role\": \"system\", \"content\": \"You are a precise and reliable classifier for technical support tickets.\"},\n",
    "                {\"role\": \"user\", \"content\": prompt},\n",
    "            ],\n",
    "            timeout=30,\n",
    "        )\n",
    "\n",
    "        # Extract text\n",
    "        text = resp.choices[0].message.content.strip()\n",
    "        if text.startswith(\"```\") and text.endswith(\"```\"):\n",
    "            text = \"\\n\".join(text.split(\"\\n\")[1:-1]).strip()\n",
    "\n",
    "        # Parse JSON\n",
    "        try:\n",
    "            labels = json.loads(text)\n",
    "            if not isinstance(labels, list) or len(labels) != len(batch):\n",
    "                raise ValueError(\"Unexpected JSON format or wrong number of labels\")\n",
    "        except Exception as e:\n",
    "            raise RuntimeError(f\"Failed to parse labels from model:\\n{text}\\nError: {e}\")\n",
    "\n",
    "        predicted_labels.extend(labels)\n",
    "\n",
    "    return predicted_labels\n"
   ]
  },
  {
   "cell_type": "code",
   "execution_count": 86,
   "id": "6e72877c",
   "metadata": {},
   "outputs": [],
   "source": [
    "tickets_to_classify = df_2[\"Ticket Description\"].sample(100)\n",
    "predicted_subjects = few_shot_classify(\n",
    "    df=df_2,\n",
    "    tickets_to_classify=tickets_to_classify,\n",
    "    allowed_labels=ALLOWED_TICKET_SUBJECTS,\n",
    "    client=client,\n",
    "    batch_size=10\n",
    ")\n",
    "\n",
    "df_2.loc[:len(predicted_subjects)-1, \"Predicted Subject\"] = predicted_subjects\n",
    "\n"
   ]
  },
  {
   "cell_type": "code",
   "execution_count": 87,
   "id": "723de0ba",
   "metadata": {},
   "outputs": [
    {
     "name": "stdout",
     "output_type": "stream",
     "text": [
      "                       precision    recall  f1-score   support\n",
      "\n",
      "         Software bug       0.32      0.72      0.44        25\n",
      "Product compatibility       0.00      0.00      0.00        21\n",
      "       Hardware issue       0.15      0.28      0.20        18\n",
      "         Battery life       0.00      0.00      0.00        19\n",
      "      Network problem       0.20      0.06      0.09        17\n",
      "\n",
      "             accuracy                           0.24       100\n",
      "            macro avg       0.13      0.21      0.15       100\n",
      "         weighted avg       0.14      0.24      0.16       100\n",
      "\n",
      "Overall accuracy on filtered subjects: 0.24\n"
     ]
    },
    {
     "data": {
      "image/png": "[encoded data removed]",
      "text/plain": [
       "<Figure size 700x700 with 2 Axes>"
      ]
     },
     "metadata": {},
     "output_type": "display_data"
    }
   ],
   "source": [
    "\n",
    "report_3 = classification_report(\n",
    "    df_2['Ticket Subject'].head(100),\n",
    "    df_2['Predicted Subject'].head(100),\n",
    "    labels=ALLOWED_TICKET_SUBJECTS,\n",
    "    zero_division=0\n",
    ")\n",
    "print(report_3)\n",
    "\n",
    "# Overall accuracy\n",
    "accuracy_3 = accuracy_score(\n",
    "    df_2['Ticket Subject'].head(100),\n",
    "    df_2['Predicted Subject'].head(100)\n",
    ")\n",
    "print(f\"Overall accuracy on filtered subjects: {accuracy_3:.2f}\")\n",
    "\n",
    "#Confusion Matrix:\n",
    "# True and predicted labels\n",
    "y_true = df_2[\"Ticket Subject\"].head(100)\n",
    "y_pred = df_2[\"Predicted Subject\"].head(100)\n",
    "\n",
    "# Plot confusion matrix\n",
    "fig, ax = plt.subplots(figsize=(7, 7))\n",
    "ConfusionMatrixDisplay.from_predictions(\n",
    "    y_true,\n",
    "    y_pred,\n",
    "    labels=ALLOWED_TICKET_SUBJECTS,  # ensures consistent ordering\n",
    "    ax=ax,\n",
    "    cmap='Blues'\n",
    ")\n",
    "\n",
    "ax.set_title(\"Confusion Matrix — Zero-Shot Ticket Classification\")\n",
    "plt.xticks(rotation=45)\n",
    "plt.tight_layout()"
   ]
  },
  {
   "cell_type": "markdown",
   "id": "603deb99",
   "metadata": {},
   "source": [
    "The few-shot classifier did not improve the accuracy that much. The classifier still predicts Software bug most frequently. What is interesting is that it actually also predicts Hardware issue 33 times - however only predicts correct 5 times. This could indicate that the LLM mostly rely on predicting Software or Hardware bug/issue as most problem would relate to either one of them - however it still struggles to correctly identify them. Let us look into some of the mismatches and see if we can find any substantial reasoning behind the poor performance of the classifier:"
   ]
  },
  {
   "cell_type": "code",
   "execution_count": 88,
   "id": "14fcb9ff",
   "metadata": {},
   "outputs": [
    {
     "name": "stdout",
     "output_type": "stream",
     "text": [
      "                                                                                                                                                                                                                                                                                                                         Ticket Description  \\\n",
      "0                                                                                        I'm facing a problem with my Dell XPS. The Dell XPS is not turning on. It was working fine until yesterday, but now it doesn't respond.  1.8.3 I really I'm using the original charger that came with my Dell XPS, but it's not charging properly.   \n",
      "1  I'm having an issue with the Philips Hue Lights. Please assist. (Thanks) I will contact all my suppliers and confirm.  Please try and find out whether their inventory is currently stocked, or any other reason. I am I've performed a factory reset on my Philips Hue Lights, hoping it would resolve the problem, but it didn't help.   \n",
      "3                           I'm having an issue with the Nintendo Switch Pro Controller. Please assist.  CQW: Why didn't I send him the invoice? Thanks a lot.  L: He's like the best customer I've met. I've noticed that the issue occurs consistently when I use a specific feature or application on my Nintendo Switch Pro Controller.   \n",
      "5                           I'm having an issue with the GoPro Action Camera. Please assist.  The seller has sold the item for $29.89. When we receive your replacement, we will exchange the item for a full refund or exchange immediately upon I've already contacted customer support multiple times, but the issue remains unresolved.   \n",
      "6            I'm having an issue with the Autodesk AutoCAD. Please assist. We hope that every vendor takes the time it takes in to do the following: \"Remove the product from your account - notify consumers, call them, make their I'm concerned about the security of my Autodesk AutoCAD and would like to ensure that my data is safe.   \n",
      "\n",
      "          Ticket Subject Predicted Subject  \n",
      "0        Network problem      Battery life  \n",
      "1           Battery life      Software bug  \n",
      "3         Hardware issue      Software bug  \n",
      "5  Product compatibility   Network problem  \n",
      "6         Hardware issue      Software bug  \n"
     ]
    }
   ],
   "source": [
    "# Subset the first 100 rows\n",
    "subset = df_2.iloc[:100]\n",
    "\n",
    "# Identify mismatches\n",
    "mismatches = subset[subset['Ticket Subject'] != subset['Predicted Subject']]\n",
    "\n",
    "# Show first 5 mismatches\n",
    "print(mismatches[['Ticket Description', 'Ticket Subject', 'Predicted Subject']].head(5))\n"
   ]
  },
  {
   "cell_type": "markdown",
   "id": "69707462",
   "metadata": {},
   "source": [
    "If we just look at the first example (0) we can understand why the classifier predicts this one wrong: \n",
    "\n",
    "- The customer explains that the product is not turning on and it is not charging properly. Here it is clear why the LLM predicts a Hardware Issue. For some reason this description is classified as a Network problem. \n",
    "\n",
    "This could indicate that there is some data issue and labeling errors and that the descriptions do not quite explain or indicate what type of subject that the ticket is classified to. \n",
    "\n",
    "Also if we read the second mismatch the descriptions actually contains both the customer-reported issues but also some like service-department internal communication ('I will contact all my suppliers and confirm). This will make the LLM confused and maybe a more clear prompt could have helped at least to reduce the natural confusion. \n",
    "\n",
    "**Overall:** The dataset had potential to be used as a create example of how a company can use NLP techniques to classify customer support tickets - however this is clearly an example of 'Garbage In - Garbage Out' and that the general description of the issue from the customers side is vital. This might be why we see that in customer inquiry platform, that the information which the company needs always need to be 'clear' and 'concise'. This could be difficult for a tech company, as many customers might have strong technical knowledge to clearly explain the issue. Most people might just explain that their product 'is not working properly', which provides very limited information of the actual problem. "
   ]
  }
 ],
 "metadata": {
  "kernelspec": {
   "display_name": ".venv",
   "language": "python",
   "name": "python3"
  },
  "language_info": {
   "codemirror_mode": {
    "name": "ipython",
    "version": 3
   },
   "file_extension": ".py",
   "mimetype": "text/x-python",
   "name": "python",
   "nbconvert_exporter": "python",
   "pygments_lexer": "ipython3",
   "version": "3.11.14"
  }
 },
 "nbformat": 4,
 "nbformat_minor": 5
}
